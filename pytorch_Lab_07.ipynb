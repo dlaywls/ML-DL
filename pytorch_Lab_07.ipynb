{
  "nbformat": 4,
  "nbformat_minor": 0,
  "metadata": {
    "colab": {
      "provenance": [],
      "authorship_tag": "ABX9TyNbBJbyA3NArPJD2cEjd59U",
      "include_colab_link": true
    },
    "kernelspec": {
      "name": "python3",
      "display_name": "Python 3"
    },
    "language_info": {
      "name": "python"
    }
  },
  "cells": [
    {
      "cell_type": "markdown",
      "metadata": {
        "id": "view-in-github",
        "colab_type": "text"
      },
      "source": [
        "<a href=\"https://colab.research.google.com/github/dlaywls/ML-DL/blob/main/pytorch_Lab_07.ipynb\" target=\"_parent\"><img src=\"https://colab.research.google.com/assets/colab-badge.svg\" alt=\"Open In Colab\"/></a>"
      ]
    },
    {
      "cell_type": "markdown",
      "source": [
        "imports"
      ],
      "metadata": {
        "id": "ooLZtPtTOX5f"
      }
    },
    {
      "cell_type": "code",
      "source": [
        "import torch\n",
        "import torch.nn as nn\n",
        "import torch.nn.functional as F\n",
        "import torch.optim as optim\n",
        "\n",
        "#For reproducidility\n",
        "torch.manual_seed(1)\n"
      ],
      "metadata": {
        "colab": {
          "base_uri": "https://localhost:8080/"
        },
        "id": "E3pBYDihv7MQ",
        "outputId": "9c291d72-23f8-4cfa-8354-f55b10eac0f5"
      },
      "execution_count": null,
      "outputs": [
        {
          "output_type": "execute_result",
          "data": {
            "text/plain": [
              "<torch._C.Generator at 0x7f7a4a8a0b70>"
            ]
          },
          "metadata": {},
          "execution_count": 57
        }
      ]
    },
    {
      "cell_type": "markdown",
      "source": [
        "training and test dataset"
      ],
      "metadata": {
        "id": "XHecoXwbwPVm"
      }
    },
    {
      "cell_type": "code",
      "source": [
        "x_train=torch.FloatTensor([[1,2,1],[1,3,2],[1,3,4],[1,5,5],[1,7,5],[1,2,5],[1,6,6],[1,7,7]])\n",
        "y_train=torch.LongTensor([2,2,2,1,1,1,0,0])\n",
        "\n",
        "x_set=torch.FloatTensor([[2,1,1],[3,3,2],[3,3,4]])\n",
        "y_set=torch.FloatTensor([2,2,2])\n"
      ],
      "metadata": {
        "id": "gwHI85ODv30t"
      },
      "execution_count": null,
      "outputs": []
    },
    {
      "cell_type": "markdown",
      "source": [
        "Model"
      ],
      "metadata": {
        "id": "yrnjykrexM1o"
      }
    },
    {
      "cell_type": "code",
      "source": [
        "class SoftmaxClassifierModel(nn.Module):\n",
        "    def __init__(self):\n",
        "        super().__init__()\n",
        "        self.linear = nn.Linear(3,3)\n",
        "\n",
        "    def forward(self, x):\n",
        "        return self.linear(x)\n"
      ],
      "metadata": {
        "id": "dKGoNg7IxMIg"
      },
      "execution_count": null,
      "outputs": []
    },
    {
      "cell_type": "code",
      "source": [
        "model=SoftmaxClassifierModel()\n",
        "\n",
        "#optimizer설정\n",
        "\n",
        "optimizer=optim.SGD(model.parameters(),lr=0.1)"
      ],
      "metadata": {
        "id": "juyLDW29xg8b"
      },
      "execution_count": null,
      "outputs": []
    },
    {
      "cell_type": "markdown",
      "source": [
        "Training"
      ],
      "metadata": {
        "id": "6rzoaUCLx_JK"
      }
    },
    {
      "cell_type": "code",
      "source": [
        "def train(model, optimizer, x_train, y_train):\n",
        "  nb_epochs=20\n",
        "  for epoch in range(nb_epochs):\n",
        "    \n",
        "    prediction=model(x_train)\n",
        "\n",
        "     #cost계산\n",
        "     cos= F.cross_entropy(prediction,y_train)\n",
        "\n",
        "     #cost로 H(x)계산\n",
        "     optimizer.zero_grad()\n",
        "     cost.backward()\n",
        "     optimizer.step()\n",
        "\n",
        "     print('Epoch {:4d}/{} Cost: {:.6f}'.format(epoch,nb_epochs, cost.item()))\n"
      ],
      "metadata": {
        "colab": {
          "base_uri": "https://localhost:8080/",
          "height": 137
        },
        "id": "btxAs2LuyBYG",
        "outputId": "2d454fa2-0263-4021-9b14-0b1b922e4eff"
      },
      "execution_count": null,
      "outputs": [
        {
          "output_type": "error",
          "ename": "IndentationError",
          "evalue": "ignored",
          "traceback": [
            "\u001b[0;36m  File \u001b[0;32m\"<ipython-input-59-767b026d4182>\"\u001b[0;36m, line \u001b[0;32m8\u001b[0m\n\u001b[0;31m    cos= F.cross_entropy(prediction,y_train)\u001b[0m\n\u001b[0m    ^\u001b[0m\n\u001b[0;31mIndentationError\u001b[0m\u001b[0;31m:\u001b[0m unexpected indent\n"
          ]
        }
      ]
    },
    {
      "cell_type": "code",
      "source": [
        "def test(model, optimizer, x_test, y_test):\n",
        "  prediction=model(x_test)\n",
        "  predicted_classes=prediction.max(1)[1]\n",
        "  correct_count=(predicted_classes==y_test).sum().item()\n",
        "  cost=F.cross_entropy(prediction,y_test)\n",
        "  print('Accuracy: {} % Cost: {: 6f}'.format(correct_count/len(y_test)*100, cost.item()))\n"
      ],
      "metadata": {
        "id": "vWEsMnKayHuN"
      },
      "execution_count": null,
      "outputs": []
    },
    {
      "cell_type": "markdown",
      "source": [
        "Run"
      ],
      "metadata": {
        "id": "kOcfDLav1G2o"
      }
    },
    {
      "cell_type": "code",
      "source": [
        "train(model, optimizer,x_train,y_train)\n"
      ],
      "metadata": {
        "colab": {
          "base_uri": "https://localhost:8080/"
        },
        "id": "zJV8NI531Hww",
        "outputId": "2441f0c0-44d5-453e-8eb7-86edbb341697"
      },
      "execution_count": null,
      "outputs": [
        {
          "output_type": "stream",
          "name": "stdout",
          "text": [
            "Accuracy: 50.0 % Cost:  2.203667\n"
          ]
        }
      ]
    },
    {
      "cell_type": "code",
      "source": [
        "test(model,optimizer,x_test,y_test)"
      ],
      "metadata": {
        "colab": {
          "base_uri": "https://localhost:8080/",
          "height": 173
        },
        "id": "nMSzhOQk1OLn",
        "outputId": "48eca8dc-d53e-44b3-c787-55691b0c0b0e"
      },
      "execution_count": null,
      "outputs": [
        {
          "output_type": "error",
          "ename": "NameError",
          "evalue": "ignored",
          "traceback": [
            "\u001b[0;31m---------------------------------------------------------------------------\u001b[0m",
            "\u001b[0;31mNameError\u001b[0m                                 Traceback (most recent call last)",
            "\u001b[0;32m<ipython-input-26-5e87773ea034>\u001b[0m in \u001b[0;36m<cell line: 1>\u001b[0;34m()\u001b[0m\n\u001b[0;32m----> 1\u001b[0;31m \u001b[0mtest\u001b[0m\u001b[0;34m(\u001b[0m\u001b[0mmodel\u001b[0m\u001b[0;34m,\u001b[0m\u001b[0moptimizer\u001b[0m\u001b[0;34m,\u001b[0m\u001b[0mx_test\u001b[0m\u001b[0;34m,\u001b[0m\u001b[0my_test\u001b[0m\u001b[0;34m)\u001b[0m\u001b[0;34m\u001b[0m\u001b[0;34m\u001b[0m\u001b[0m\n\u001b[0m",
            "\u001b[0;31mNameError\u001b[0m: name 'x_test' is not defined"
          ]
        }
      ]
    },
    {
      "cell_type": "code",
      "source": [
        "!pip torch"
      ],
      "metadata": {
        "id": "rUGwwKyN1OQ-",
        "colab": {
          "base_uri": "https://localhost:8080/"
        },
        "outputId": "217dac20-b236-45bb-87dc-cfaacc7a8fae"
      },
      "execution_count": null,
      "outputs": [
        {
          "output_type": "stream",
          "name": "stdout",
          "text": [
            "ERROR: unknown command \"torch\"\n"
          ]
        }
      ]
    }
  ]
}