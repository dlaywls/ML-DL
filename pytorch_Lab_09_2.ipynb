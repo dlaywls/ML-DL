{
  "nbformat": 4,
  "nbformat_minor": 0,
  "metadata": {
    "colab": {
      "provenance": [],
      "authorship_tag": "ABX9TyPzzlDNNYxDpilQtzSp41T1",
      "include_colab_link": true
    },
    "kernelspec": {
      "name": "python3",
      "display_name": "Python 3"
    },
    "language_info": {
      "name": "python"
    }
  },
  "cells": [
    {
      "cell_type": "markdown",
      "metadata": {
        "id": "view-in-github",
        "colab_type": "text"
      },
      "source": [
        "<a href=\"https://colab.research.google.com/github/dlaywls/ML-DL/blob/main/pytorch_Lab_09_2.ipynb\" target=\"_parent\"><img src=\"https://colab.research.google.com/assets/colab-badge.svg\" alt=\"Open In Colab\"/></a>"
      ]
    },
    {
      "cell_type": "code",
      "execution_count": null,
      "metadata": {
        "id": "A-Pvvj52XncO"
      },
      "outputs": [],
      "source": [
        "import torch\n",
        "import torch.nn as nn\n",
        "import torch.nn.functional as F\n",
        "import torch.optim as optim\n",
        "import torchvision.datasets as dsets"
      ]
    },
    {
      "cell_type": "code",
      "source": [
        "def xavier_uniform_(tensor, gain=1):\n",
        "\n",
        " \n",
        " \n",
        "  fan_in, fan_out = _calculate_fan_in_and_fan_out(tensor)\n",
        "  std = gain * math.sqrt(2.0 / (fan_in + fan_out))\n",
        "  a = math.sqrt(3.0) * std # Calculate uniform bounds from standard deviation\n",
        "  with torch.no_grad():\n",
        "    return tensor.uniform_(-a, a)"
      ],
      "metadata": {
        "id": "2Jj5ngHtXyIf"
      },
      "execution_count": null,
      "outputs": []
    },
    {
      "cell_type": "code",
      "source": [
        "# nn layers\n",
        "linear1 = torch.nn.Linear(784, 256, bias=True)\n",
        "linear2 = torch.nn.Linear(256, 256, bias=True)\n",
        "linear3 = torch.nn.Linear(256, 10, bias=True)\n",
        "relu = torch.nn.ReLU()\n",
        "# xavier initialization\n",
        "torch.nn.init.xavier_uniform_(linear1.weight)\n",
        "torch.nn.init.xavier_uniform_(linear2.weight)\n",
        "torch.nn.init.xavier_uniform_(linear3.weight)"
      ],
      "metadata": {
        "colab": {
          "base_uri": "https://localhost:8080/"
        },
        "id": "XT_i7hJZX69K",
        "outputId": "7718205a-a150-468e-dd80-f0b795f72307"
      },
      "execution_count": null,
      "outputs": [
        {
          "output_type": "execute_result",
          "data": {
            "text/plain": [
              "Parameter containing:\n",
              "tensor([[-0.0361,  0.1390, -0.0189,  ..., -0.0579,  0.0213, -0.0642],\n",
              "        [ 0.0313, -0.0815,  0.0703,  ..., -0.0291, -0.0880,  0.1010],\n",
              "        [-0.0642,  0.0454, -0.0685,  ..., -0.0234, -0.0853,  0.0398],\n",
              "        ...,\n",
              "        [ 0.0813,  0.0290, -0.1215,  ..., -0.0744,  0.1336, -0.0705],\n",
              "        [-0.1389, -0.0571, -0.0083,  ...,  0.0575,  0.1193, -0.0652],\n",
              "        [-0.0215,  0.0354,  0.0230,  ..., -0.1232,  0.0686, -0.0955]],\n",
              "       requires_grad=True)"
            ]
          },
          "metadata": {},
          "execution_count": 8
        }
      ]
    },
    {
      "cell_type": "code",
      "source": [
        "# nn layers\n",
        "linear1 = torch.nn.Linear(784, 512, bias=True)\n",
        "linear2 = torch.nn.Linear(512, 512, bias=True)\n",
        "linear3 = torch.nn.Linear(512, 512, bias=True)\n",
        "linear4 = torch.nn.Linear(512, 512, bias=True)\n",
        "linear5 = torch.nn.Linear(512, 10, bias=True)\n",
        "relu = torch.nn.ReLU()\n",
        "# xavier initialization\n",
        "torch.nn.init.xavier_uniform_(linear1.weight)\n",
        "torch.nn.init.xavier_uniform_(linear2.weight)\n",
        "torch.nn.init.xavier_uniform_(linear3.weight)\n",
        "torch.nn.init.xavier_uniform_(linear4.weight)\n",
        "torch.nn.init.xavier_uniform_(linear5.weight)"
      ],
      "metadata": {
        "id": "IPLiinxnYQuk",
        "outputId": "965f63d0-f5cc-4322-9d80-d9fd509c2e28",
        "colab": {
          "base_uri": "https://localhost:8080/"
        }
      },
      "execution_count": null,
      "outputs": [
        {
          "output_type": "execute_result",
          "data": {
            "text/plain": [
              "Parameter containing:\n",
              "tensor([[ 0.0453, -0.0775, -0.0342,  ..., -0.0312, -0.0724,  0.0602],\n",
              "        [ 0.0260,  0.0050, -0.0406,  ..., -0.0710,  0.0655,  0.0138],\n",
              "        [-0.0287,  0.0550,  0.0826,  ...,  0.0278,  0.0422,  0.0152],\n",
              "        ...,\n",
              "        [-0.0866,  0.1004,  0.0070,  ..., -0.0926, -0.1042,  0.0619],\n",
              "        [-0.0498, -0.0605, -0.0241,  ...,  0.0868,  0.0888, -0.0447],\n",
              "        [ 0.0540,  0.0301,  0.0085,  ..., -0.0283,  0.0098,  0.0596]],\n",
              "       requires_grad=True)"
            ]
          },
          "metadata": {},
          "execution_count": 9
        }
      ]
    }
  ]
}